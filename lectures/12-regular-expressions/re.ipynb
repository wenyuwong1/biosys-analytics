{
 "cells": [
  {
   "cell_type": "markdown",
   "metadata": {},
   "source": [
    "# Introduction to Regular Expressions in Python\n",
    "\n",
    "\n",
    "The term \"regular expression\" is a formal, linguistic term you might be interested to read about (https://en.wikipedia.org/wiki/Regular_language). For our purposes, regular expressions (AKA \"regexes\" or a \"regex\") is a way to formally describe some string of characters that we want to find. Regexes are an entirely separate DSL (domain-specific language) that we use inside Python, just like in the previous chapter we use SQL statements to communite with SQLite. While it's a bit of a drag to have to learn yet another language, the bonus is that you can use regular expressions in many places besides Python including with command line tools like `grep` and `awk` as well as within other languages like Perl and Rust.\n",
    "\n",
    "We can `import re` to use the Python regular expression module and use it to search text. For instance, in the tic-tac-toe exercise, we needed to see if the `--player` argument was exactly one character that was either an 'X' or an 'O'. Here's code that can do that:"
   ]
  },
  {
   "cell_type": "code",
   "execution_count": 3,
   "metadata": {},
   "outputs": [
    {
     "name": "stdout",
     "output_type": "stream",
     "text": [
      "X OK\n",
      "A bad\n",
      "O OK\n",
      "5 bad\n"
     ]
    }
   ],
   "source": [
    "for player in ['X', 'A', 'O', '5']:\n",
    "    if len(player) == 1 and (player == 'X' or player == 'O'):\n",
    "        print('{} OK'.format(player))\n",
    "    else:\n",
    "        print('{} bad'.format(player))"
   ]
  },
  {
   "cell_type": "markdown",
   "metadata": {},
   "source": [
    "A shorter way to write this could be:"
   ]
  },
  {
   "cell_type": "code",
   "execution_count": 4,
   "metadata": {},
   "outputs": [
    {
     "name": "stdout",
     "output_type": "stream",
     "text": [
      "X OK\n",
      "A bad\n",
      "B bad\n",
      "5 bad\n"
     ]
    }
   ],
   "source": [
    "for player in ['X', 'A', 'B', '5']:\n",
    "    if len(player) == 1 and player in 'XO':\n",
    "        print('{} OK'.format(player))\n",
    "    else:\n",
    "        print('{} bad'.format(player))"
   ]
  },
  {
   "cell_type": "markdown",
   "metadata": {},
   "source": [
    "It's not too onerous, but it quickly gets worse as we get more complicated requirements. In that same exercise, we needed to check if `--state` was exactly 9 characters composed entirely of \".\", \"X\", \"O\":"
   ]
  },
  {
   "cell_type": "code",
   "execution_count": 5,
   "metadata": {},
   "outputs": [
    {
     "name": "stdout",
     "output_type": "stream",
     "text": [
      "XXX...OOO OK\n",
      "XXX...OOA No\n"
     ]
    }
   ],
   "source": [
    "for state in ['XXX...OOO', 'XXX...OOA']:\n",
    "    #print([(x, x in 'XO.') for x in state])\n",
    "    print(state, 'OK' if len(state) == 9 and \n",
    "          all(map(lambda x: x in 'XO.', state)) else 'No')"
   ]
  },
  {
   "cell_type": "markdown",
   "metadata": {},
   "source": [
    "Can we make this simpler? Well, when we were starting out with the Unix command line, one exercise had us using `grep` to look for lines that start with vowels. One solution was:\n",
    "\n",
    "````\n",
    "$ grep -io '^[aeiou]' scarlet.txt | sort | uniq -c\n",
    "  59 A\n",
    "  10 E\n",
    "  91 I\n",
    "  20 O\n",
    "   6 U\n",
    " 651 a\n",
    " 199 e\n",
    " 356 i\n",
    " 358 o\n",
    " 106 u\n",
    "````\n",
    "\n",
    "We used square brackets `[]` to enumerate all the vowels `[aeiou]` and used the `-i` flag to `grep` to indicate it should match case **insensitively**. Additionally, the `^` indicated that the match should occur at the start of the string. Those were regular expressions we were using.\n",
    "\n",
    "The regex allows us to **describe** what we want rather than **implement** the code to find what we want. We can create a class of allowed characters with `[XO]` and additionally constraint it to be exactly one character wide with `{1}` after the class. (Note that `{}` for match length can be in the format `{exactly}`, `{min,max}`, `{min,}`, or `{,max}`.)\n",
    "\n",
    "To use regular expressions:"
   ]
  },
  {
   "cell_type": "code",
   "execution_count": 26,
   "metadata": {},
   "outputs": [],
   "source": [
    "import re"
   ]
  },
  {
   "cell_type": "markdown",
   "metadata": {},
   "source": [
    "Now let's describe our pattern using a character class `[XO]` and the length `{1}`:"
   ]
  },
  {
   "cell_type": "code",
   "execution_count": 147,
   "metadata": {},
   "outputs": [
    {
     "name": "stdout",
     "output_type": "stream",
     "text": [
      "X <_sre.SRE_Match object; span=(0, 1), match='X'>\n",
      "O <_sre.SRE_Match object; span=(0, 1), match='O'>\n",
      "A None\n"
     ]
    }
   ],
   "source": [
    "for player in ['X', 'O', 'A']:\n",
    "    print(player, re.match('[XO]{1}', player))"
   ]
  },
  {
   "cell_type": "markdown",
   "metadata": {},
   "source": [
    "We can extend this to our state problem:"
   ]
  },
  {
   "cell_type": "code",
   "execution_count": 30,
   "metadata": {},
   "outputs": [
    {
     "name": "stdout",
     "output_type": "stream",
     "text": [
      "XXX...OOO <_sre.SRE_Match object; span=(0, 9), match='XXX...OOO'>\n"
     ]
    }
   ],
   "source": [
    "state = 'XXX...OOO'\n",
    "print(state, re.match('[XO.]{9}', state))"
   ]
  },
  {
   "cell_type": "code",
   "execution_count": 31,
   "metadata": {},
   "outputs": [
    {
     "name": "stdout",
     "output_type": "stream",
     "text": [
      "XXX...OOA None\n"
     ]
    }
   ],
   "source": [
    "state = 'XXX...OOA'\n",
    "print(state, re.match('[XO.]{9}', state))"
   ]
  },
  {
   "cell_type": "markdown",
   "metadata": {},
   "source": [
    "## Building regular expressions\n",
    "\n",
    "How do we match a number?"
   ]
  },
  {
   "cell_type": "code",
   "execution_count": 9,
   "metadata": {
    "scrolled": true
   },
   "outputs": [
    {
     "name": "stdout",
     "output_type": "stream",
     "text": [
      "<_sre.SRE_Match object; span=(0, 1), match='1'>\n"
     ]
    }
   ],
   "source": [
    "print(re.match('1', '1'))"
   ]
  },
  {
   "cell_type": "markdown",
   "metadata": {
    "scrolled": true
   },
   "source": [
    "But that only works for just \"1\""
   ]
  },
  {
   "cell_type": "code",
   "execution_count": 10,
   "metadata": {
    "scrolled": true
   },
   "outputs": [
    {
     "name": "stdout",
     "output_type": "stream",
     "text": [
      "None\n"
     ]
    }
   ],
   "source": [
    "print(re.match('2', '1'))"
   ]
  },
  {
   "cell_type": "markdown",
   "metadata": {
    "scrolled": true
   },
   "source": [
    "How do we match all the numbers from 0 to 9? We can create a character class that contains that range:"
   ]
  },
  {
   "cell_type": "code",
   "execution_count": 120,
   "metadata": {
    "scrolled": true
   },
   "outputs": [
    {
     "name": "stdout",
     "output_type": "stream",
     "text": [
      "<_sre.SRE_Match object; span=(0, 1), match='1'>\n"
     ]
    }
   ],
   "source": [
    "print(re.match('[0-9]', '1'))"
   ]
  },
  {
   "cell_type": "markdown",
   "metadata": {
    "scrolled": true
   },
   "source": [
    "There is a short-hand for the character class `[0-9]` that is `\\d` (digit)"
   ]
  },
  {
   "cell_type": "code",
   "execution_count": 47,
   "metadata": {
    "scrolled": true
   },
   "outputs": [
    {
     "data": {
      "text/plain": [
       "<_sre.SRE_Match object; span=(0, 1), match='1'>"
      ]
     },
     "execution_count": 47,
     "metadata": {},
     "output_type": "execute_result"
    }
   ],
   "source": [
    "re.match('\\d', '1')"
   ]
  },
  {
   "cell_type": "markdown",
   "metadata": {
    "scrolled": true
   },
   "source": [
    "But this only matches the first number we see:"
   ]
  },
  {
   "cell_type": "code",
   "execution_count": 121,
   "metadata": {
    "scrolled": true
   },
   "outputs": [
    {
     "data": {
      "text/plain": [
       "<_sre.SRE_Match object; span=(0, 1), match='1'>"
      ]
     },
     "execution_count": 121,
     "metadata": {},
     "output_type": "execute_result"
    }
   ],
   "source": [
    "re.match('\\d', '123')"
   ]
  },
  {
   "cell_type": "markdown",
   "metadata": {
    "scrolled": true
   },
   "source": [
    "We can use `{}` to indicate `{min,max}`, `{min,}`, `{,max}`, or `{exactly}`:"
   ]
  },
  {
   "cell_type": "code",
   "execution_count": 50,
   "metadata": {},
   "outputs": [
    {
     "name": "stdout",
     "output_type": "stream",
     "text": [
      "<_sre.SRE_Match object; span=(0, 4), match='8005'>\n"
     ]
    }
   ],
   "source": [
    "print(re.match('\\d{1,4}', '8005551212'))"
   ]
  },
  {
   "cell_type": "code",
   "execution_count": 51,
   "metadata": {},
   "outputs": [
    {
     "name": "stdout",
     "output_type": "stream",
     "text": [
      "<_sre.SRE_Match object; span=(0, 10), match='8005551212'>\n"
     ]
    }
   ],
   "source": [
    "print(re.match('\\d{1,}', '8005551212'))"
   ]
  },
  {
   "cell_type": "code",
   "execution_count": 52,
   "metadata": {},
   "outputs": [
    {
     "name": "stdout",
     "output_type": "stream",
     "text": [
      "<_sre.SRE_Match object; span=(0, 5), match='80055'>\n"
     ]
    }
   ],
   "source": [
    "print(re.match('\\d{,5}', '8005551212'))"
   ]
  },
  {
   "cell_type": "code",
   "execution_count": 53,
   "metadata": {
    "scrolled": true
   },
   "outputs": [
    {
     "name": "stdout",
     "output_type": "stream",
     "text": [
      "<_sre.SRE_Match object; span=(0, 8), match='80055512'>\n"
     ]
    }
   ],
   "source": [
    "print(re.match('\\d{8}', '8005551212'))"
   ]
  },
  {
   "cell_type": "markdown",
   "metadata": {},
   "source": [
    "## match vs search\n",
    "\n",
    "Note that we are using `re.match` which requires the regex to match **at the beginning of the string**:"
   ]
  },
  {
   "cell_type": "code",
   "execution_count": 124,
   "metadata": {},
   "outputs": [
    {
     "name": "stdout",
     "output_type": "stream",
     "text": [
      "None\n"
     ]
    }
   ],
   "source": [
    "print(re.match('\\d{10}', 'That number to call is 8005551212!'))"
   ]
  },
  {
   "cell_type": "markdown",
   "metadata": {},
   "source": [
    "If you want to match anywhere in the string, use `re.search`:"
   ]
  },
  {
   "cell_type": "code",
   "execution_count": 14,
   "metadata": {},
   "outputs": [
    {
     "name": "stdout",
     "output_type": "stream",
     "text": [
      "123 <_sre.SRE_Match object; span=(0, 3), match='123'>\n",
      "abc456 <_sre.SRE_Match object; span=(3, 6), match='456'>\n",
      "789def <_sre.SRE_Match object; span=(0, 3), match='789'>\n"
     ]
    }
   ],
   "source": [
    "for s in ['123', 'abc456', '789def']:\n",
    "    print(s, re.search('\\d{3}', s))"
   ]
  },
  {
   "cell_type": "markdown",
   "metadata": {},
   "source": [
    "To anchor your match to the beginning of the string, use the `^`:"
   ]
  },
  {
   "cell_type": "code",
   "execution_count": 144,
   "metadata": {},
   "outputs": [
    {
     "name": "stdout",
     "output_type": "stream",
     "text": [
      "123 <_sre.SRE_Match object; span=(0, 3), match='123'>\n",
      "abc456 None\n",
      "789def <_sre.SRE_Match object; span=(0, 3), match='789'>\n"
     ]
    }
   ],
   "source": [
    "for s in ['123', 'abc456', '789def']:\n",
    "    print(s, re.search('^\\d{3}', s))"
   ]
  },
  {
   "cell_type": "markdown",
   "metadata": {},
   "source": [
    "Use `$` for the end of the string:"
   ]
  },
  {
   "cell_type": "code",
   "execution_count": 145,
   "metadata": {},
   "outputs": [
    {
     "name": "stdout",
     "output_type": "stream",
     "text": [
      "123 <_sre.SRE_Match object; span=(0, 3), match='123'>\n",
      "abc456 <_sre.SRE_Match object; span=(3, 6), match='456'>\n",
      "789def None\n"
     ]
    }
   ],
   "source": [
    "for s in ['123', 'abc456', '789def']:\n",
    "    print(s, re.search('\\d{3}$', s))"
   ]
  },
  {
   "cell_type": "markdown",
   "metadata": {},
   "source": [
    "And use both to say that the entire string from beginning to end must match:"
   ]
  },
  {
   "cell_type": "code",
   "execution_count": 141,
   "metadata": {},
   "outputs": [
    {
     "name": "stdout",
     "output_type": "stream",
     "text": [
      "123 <_sre.SRE_Match object; span=(0, 3), match='123'>\n",
      "abc123 None\n",
      "123def None\n"
     ]
    }
   ],
   "source": [
    "for s in ['123', 'abc456', '789def']:\n",
    "    print(s, re.search('^\\d{3}$', s))"
   ]
  },
  {
   "cell_type": "markdown",
   "metadata": {},
   "source": [
    "Returning to our previous problem of trying to see if we got *exactly* one \"X\" or \"O\" for our tic-tac-toe player:"
   ]
  },
  {
   "cell_type": "code",
   "execution_count": 149,
   "metadata": {},
   "outputs": [
    {
     "name": "stdout",
     "output_type": "stream",
     "text": [
      "X <_sre.SRE_Match object; span=(0, 1), match='X'>\n",
      "O <_sre.SRE_Match object; span=(0, 1), match='O'>\n",
      "XX <_sre.SRE_Match object; span=(0, 1), match='X'>\n",
      "OO <_sre.SRE_Match object; span=(0, 1), match='O'>\n"
     ]
    }
   ],
   "source": [
    "for player in ['X', 'O', 'XX', 'OO']:\n",
    "    print(player, re.match('[XO]{1}', player))"
   ]
  },
  {
   "cell_type": "markdown",
   "metadata": {},
   "source": [
    "The problem is that there is a match of `[XO]{1}` in the strings \"XX\" and \"OO\" -- there *is* exactly one X or O at the beginning of those strings. Since `re.match` already anchors the match to the beginning of the string, we could just add `$` to the end of our pattern:"
   ]
  },
  {
   "cell_type": "code",
   "execution_count": 150,
   "metadata": {},
   "outputs": [
    {
     "name": "stdout",
     "output_type": "stream",
     "text": [
      "X <_sre.SRE_Match object; span=(0, 1), match='X'>\n",
      "O <_sre.SRE_Match object; span=(0, 1), match='O'>\n",
      "XX None\n",
      "OO None\n"
     ]
    }
   ],
   "source": [
    "for player in ['X', 'O', 'XX', 'OO']:\n",
    "    print(player, re.match('[XO]{1}$', player))"
   ]
  },
  {
   "cell_type": "markdown",
   "metadata": {},
   "source": [
    "Or use `re.search` with `^$` to indicate a match over the entire string:"
   ]
  },
  {
   "cell_type": "code",
   "execution_count": 151,
   "metadata": {},
   "outputs": [
    {
     "name": "stdout",
     "output_type": "stream",
     "text": [
      "X <_sre.SRE_Match object; span=(0, 1), match='X'>\n",
      "O <_sre.SRE_Match object; span=(0, 1), match='O'>\n",
      "XX None\n",
      "OO None\n"
     ]
    }
   ],
   "source": [
    "for player in ['X', 'O', 'XX', 'OO']:\n",
    "    print(player, re.search('^[XO]{1}$', player))"
   ]
  },
  {
   "cell_type": "markdown",
   "metadata": {
    "scrolled": true
   },
   "source": [
    "## Matching SSNs and Dates\n",
    "\n",
    "What if we wanted to recognize a US SSN (social security number)? \n",
    "We will use `re.compile` to create the regex and use it in a `for` loop:"
   ]
  },
  {
   "cell_type": "code",
   "execution_count": 8,
   "metadata": {
    "scrolled": true
   },
   "outputs": [
    {
     "name": "stdout",
     "output_type": "stream",
     "text": [
      "123456789: None\n",
      "123-456-789: None\n",
      "123-45-6789: <_sre.SRE_Match object; span=(0, 11), match='123-45-6789'>\n"
     ]
    }
   ],
   "source": [
    "ssn_re = re.compile('\\d{3}-\\d{2}-\\d{4}')\n",
    "for s in ['123456789', '123-456-789', '123-45-6789']:\n",
    "    print('{}: {}'.format(s, ssn_re.match(s)))"
   ]
  },
  {
   "cell_type": "markdown",
   "metadata": {},
   "source": [
    "SSNs always use a dash (`-`) as a number separator, but dates do not."
   ]
  },
  {
   "cell_type": "code",
   "execution_count": 9,
   "metadata": {},
   "outputs": [
    {
     "name": "stdout",
     "output_type": "stream",
     "text": [
      "1999-01-02: <_sre.SRE_Match object; span=(0, 10), match='1999-01-02'>\n",
      "1999/01/02: None\n"
     ]
    }
   ],
   "source": [
    "date_re = re.compile('\\d{4}-\\d{2}-\\d{2}')\n",
    "dates = ['1999-01-02', '1999/01/02']\n",
    "for d in dates:\n",
    "    print('{}: {}'.format(d, date_re.match(d)))"
   ]
  },
  {
   "cell_type": "markdown",
   "metadata": {
    "scrolled": true
   },
   "source": [
    "Just as we created a character class with `[0-9]` to represent all the numbers from 0 to 9, we can create a class to represent the separators \"/\" and \"-\" with `[/-]`. As regular expressions get longer, it makes sense to break each unit onto a different line and use Python's literal string expression to join them into a single string. As a bonus, we can comment on each unit of the regex."
   ]
  },
  {
   "cell_type": "code",
   "execution_count": 10,
   "metadata": {},
   "outputs": [
    {
     "name": "stdout",
     "output_type": "stream",
     "text": [
      "1999-01-02: <_sre.SRE_Match object; span=(0, 10), match='1999-01-02'>\n",
      "1999/01/02: <_sre.SRE_Match object; span=(0, 10), match='1999/01/02'>\n"
     ]
    }
   ],
   "source": [
    "date_re = re.compile('\\d{4}'  # year\n",
    "                     '[/-]'   # separator\n",
    "                     '\\d{2}'  # month\n",
    "                     '[/-]'   # separator\n",
    "                     '\\d{2}') # day\n",
    "\n",
    "dates = ['1999-01-02', '1999/01/02']\n",
    "for d in dates:\n",
    "    print('{}: {}'.format(d, date_re.match(d)))"
   ]
  },
  {
   "cell_type": "markdown",
   "metadata": {},
   "source": [
    "You may notice that certain elements are repeated. If we followed DRY (Don't Repeat Yourself), we might want to make variables to hold each piece, but then we could not use the literal string joining trick above. In that case, just go back to using `+` to join strings:"
   ]
  },
  {
   "cell_type": "code",
   "execution_count": 11,
   "metadata": {
    "scrolled": true
   },
   "outputs": [
    {
     "name": "stdout",
     "output_type": "stream",
     "text": [
      "1999-01-02: <_sre.SRE_Match object; span=(0, 10), match='1999-01-02'>\n",
      "1999/01/02: <_sre.SRE_Match object; span=(0, 10), match='1999/01/02'>\n"
     ]
    }
   ],
   "source": [
    "sep = '[/-]'\n",
    "four_digits = '\\d{4}'\n",
    "two_digits = '\\d{2}'\n",
    "\n",
    "date_re = re.compile(four_digits + # year\n",
    "                     sep         + # separator\n",
    "                     two_digits  + # month\n",
    "                     sep         + # separator\n",
    "                     two_digits)   # day\n",
    "\n",
    "dates = ['1999-01-02', '1999/01/02']\n",
    "for d in dates:\n",
    "    print('{}: {}'.format(d, date_re.match(d)))"
   ]
  },
  {
   "cell_type": "markdown",
   "metadata": {},
   "source": [
    "Dates are not always written YYYY-MM-DD where the month/day are zero-padded left, e.g., \"01\" instead of \"1\". How could we handle that? Change our `two_digits` from `\\d{2}` (exactly two) to `\\d{1,2}` (one or two):"
   ]
  },
  {
   "cell_type": "code",
   "execution_count": 12,
   "metadata": {},
   "outputs": [
    {
     "name": "stdout",
     "output_type": "stream",
     "text": [
      "1999-01-01: <_sre.SRE_Match object; span=(0, 10), match='1999-01-01'>\n",
      "1999/01/02: <_sre.SRE_Match object; span=(0, 10), match='1999/01/02'>\n",
      "1999/1/2: <_sre.SRE_Match object; span=(0, 8), match='1999/1/2'>\n"
     ]
    }
   ],
   "source": [
    "sep = '[/-]'\n",
    "four_digits = '\\d{4}'\n",
    "two_digits = '\\d{1,2}'\n",
    "\n",
    "date_re = re.compile(four_digits + # year\n",
    "                     sep         + # separator\n",
    "                     two_digits  + # month\n",
    "                     sep         + # separator\n",
    "                     two_digits)   # day\n",
    "\n",
    "dates = ['1999-01-01', '1999/01/02', '1999/1/2']\n",
    "for d in dates:\n",
    "    print('{}: {}'.format(d, date_re.match(d)))"
   ]
  },
  {
   "cell_type": "markdown",
   "metadata": {},
   "source": [
    "If we wanted to extract each part of the date (year, month, day), we can use parentheses `()` around the parts we want to capture into `groups`. The group \"0\" is the whole string that was match, and they are numbered sequentially after that for each group.\n",
    "\n",
    "Can you change the regex to match all three strings?"
   ]
  },
  {
   "cell_type": "code",
   "execution_count": 66,
   "metadata": {},
   "outputs": [
    {
     "name": "stdout",
     "output_type": "stream",
     "text": [
      "1999-01-01: match\n",
      "('1999', '01', '01')\n",
      "year: 1999\n",
      "\n",
      "1999/01/01: match\n",
      "('1999', '01', '01')\n",
      "year: 1999\n",
      "\n",
      "1999.01.01: miss\n",
      "\n"
     ]
    }
   ],
   "source": [
    "date_re = re.compile('(\\d{4})'    # capture year (group 1)\n",
    "                     '[/-]'       # separator\n",
    "                     '(\\d{1,2})'  # capture month (group 2)\n",
    "                     '[/-]'       # separator\n",
    "                     '(\\d{1,2})') # capture day (group 3)\n",
    "\n",
    "dates = ['1999-01-02', '1999/1/2', '1999.01.01']\n",
    "for d in dates:\n",
    "    match = date_re.match(d)\n",
    "    print('{}: {}'.format(d, 'match' if match else 'miss'))\n",
    "    if match:\n",
    "        print(match.groups())\n",
    "        print('year:', match.group(1))\n",
    "    print()"
   ]
  },
  {
   "cell_type": "markdown",
   "metadata": {},
   "source": [
    "As we add more groups, it can be confusing to remember them by their positions, so we can name them with `?P<name>` just inside the opening paren."
   ]
  },
  {
   "cell_type": "code",
   "execution_count": 13,
   "metadata": {},
   "outputs": [
    {
     "name": "stdout",
     "output_type": "stream",
     "text": [
      "1999-1-2: match\n",
      "1999-1-2 = year \"1999\" month \"1\" day \"2\"\n",
      "\n",
      "1999/01/02: match\n",
      "1999/01/02 = year \"1999\" month \"01\" day \"02\"\n",
      "\n",
      "1999.01.01: miss\n",
      "\n"
     ]
    }
   ],
   "source": [
    "date_re = re.compile('(?P<year>\\d{4})'\n",
    "                     '[/-]'\n",
    "                     '(?P<month>\\d{1,2})'\n",
    "                     '[/-]'\n",
    "                     '(?P<day>\\d{1,2})')\n",
    "\n",
    "dates = ['1999-1-2', '1999/01/02', '1999.01.01']\n",
    "\n",
    "for d in dates:\n",
    "    match = date_re.match(d)\n",
    "    print('{}: {}'.format(d, 'match' if match else 'miss'))\n",
    "    if match:\n",
    "        print('{} = year \"{}\" month \"{}\" day \"{}\"'.format(d, \n",
    "                                                          match.group('year'), \n",
    "                                                          match.group('month'), \n",
    "                                                          match.group('day')))\n",
    "    print()"
   ]
  },
  {
   "cell_type": "markdown",
   "metadata": {},
   "source": [
    "## Matching US Phone Numbers\n",
    "\n",
    "What if we wanted to match a US phone number?"
   ]
  },
  {
   "cell_type": "code",
   "execution_count": 15,
   "metadata": {},
   "outputs": [
    {
     "name": "stdout",
     "output_type": "stream",
     "text": [
      "None\n"
     ]
    }
   ],
   "source": [
    "phone_re = re.compile('(\\d{3})'  # area code\n",
    "                      ' '        # a space\n",
    "                      '\\d{3}'    # prefix\n",
    "                      '-'        # dash\n",
    "                      '\\d{4}')   # line number\n",
    "print(phone_re.match('(800) 555-1212'))"
   ]
  },
  {
   "cell_type": "markdown",
   "metadata": {},
   "source": [
    "Why didn't that work?\n",
    "\n",
    "What do those parentheses do again? They group!\n",
    "\n",
    "So we need to indicate that the parens are literal things to match by using backslashes `\\` to escape them."
   ]
  },
  {
   "cell_type": "code",
   "execution_count": 16,
   "metadata": {},
   "outputs": [
    {
     "name": "stdout",
     "output_type": "stream",
     "text": [
      "<_sre.SRE_Match object; span=(0, 14), match='(800) 555-1212'>\n"
     ]
    }
   ],
   "source": [
    "phone_re = re.compile('\\('     # left paren\n",
    "                      '\\d{3}'  # area code\n",
    "                      '\\)'     # right paren\n",
    "                      ' '      # space\n",
    "                      '\\d{3}'  # prefix\n",
    "                      '-'      # dash\n",
    "                      '\\d{4}') # line number\n",
    "print(phone_re.match('(800) 555-1212'))"
   ]
  },
  {
   "cell_type": "markdown",
   "metadata": {},
   "source": [
    "We could also use character classes to make this more readable:"
   ]
  },
  {
   "cell_type": "code",
   "execution_count": 70,
   "metadata": {},
   "outputs": [
    {
     "name": "stdout",
     "output_type": "stream",
     "text": [
      "<_sre.SRE_Match object; span=(0, 14), match='(800) 555-1212'>\n"
     ]
    }
   ],
   "source": [
    "phone_re = re.compile('[(]'    # left paren\n",
    "                      '\\d{3}'  # area code\n",
    "                      '[)]'    # right paren\n",
    "                      ' '      # space\n",
    "                      '\\d{3}'  # prefix\n",
    "                      '-'      # dash\n",
    "                      '\\d{4}') # line number\n",
    "\n",
    "print(phone_re.match('(800) 555-1212'))"
   ]
  },
  {
   "cell_type": "markdown",
   "metadata": {},
   "source": [
    "There is not always a space after the area code, and it may sometimes it may be more than one space (or a tab?). We can use the `\\s` to indicate any type of whitespace and `*` to indicate zero or more:"
   ]
  },
  {
   "cell_type": "code",
   "execution_count": 19,
   "metadata": {},
   "outputs": [
    {
     "name": "stdout",
     "output_type": "stream",
     "text": [
      "(800)555-1212\tNone\n",
      "(800) 555-1212\tNone\n",
      "(800)  555-1212\t<_sre.SRE_Match object; span=(0, 15), match='(800)  555-1212'>\n"
     ]
    }
   ],
   "source": [
    "phone_re = re.compile('[(]'    # left paren\n",
    "                      '\\d{3}'  # area code\n",
    "                      '[)]'    # right paren\n",
    "                      '\\s*'    # zero or more spaces\n",
    "                      '\\d{3}'  # prefix\n",
    "                      '-'      # dash\n",
    "                      '\\d{4}') # line number\n",
    "phones = ['(800)555-1212', '(800) 555-1212', '(800)  555-1212']\n",
    "for phone in phones:\n",
    "    print('{}\\t{}'.format(phone, phone_re.match(phone)))"
   ]
  },
  {
   "cell_type": "markdown",
   "metadata": {},
   "source": [
    "When the parens around the area code are optional, usually there is a dash to separate the area code:"
   ]
  },
  {
   "cell_type": "code",
   "execution_count": 20,
   "metadata": {},
   "outputs": [
    {
     "name": "stdout",
     "output_type": "stream",
     "text": [
      "(800)555-1212\t<_sre.SRE_Match object; span=(0, 13), match='(800)555-1212'>\n",
      "(800) 555-1212\t<_sre.SRE_Match object; span=(0, 14), match='(800) 555-1212'>\n",
      "800-555-1212\t<_sre.SRE_Match object; span=(0, 12), match='800-555-1212'>\n"
     ]
    }
   ],
   "source": [
    "phone_re = re.compile('[(]?'   # optional left paren\n",
    "                      '\\d{3}'  # area code\n",
    "                      '[)]?'   # optional right paren\n",
    "                      '[-]?'   # optional dash\n",
    "                      '\\s*'    # zero or more whitespace\n",
    "                      '\\d{3}'  # prefix\n",
    "                      '-'      # dash\n",
    "                      '\\d{4}') # line number\n",
    "\n",
    "phones = ['(800)555-1212', '(800) 555-1212', '800-555-1212']\n",
    "for phone in phones:\n",
    "    print('{}\\t{}'.format(phone, phone_re.match(phone)))"
   ]
  },
  {
   "cell_type": "markdown",
   "metadata": {
    "scrolled": true
   },
   "source": [
    "This has the affect of matching a dash after parens which is generally not a valid format:"
   ]
  },
  {
   "cell_type": "code",
   "execution_count": 25,
   "metadata": {
    "scrolled": true
   },
   "outputs": [
    {
     "data": {
      "text/plain": [
       "<_sre.SRE_Match object; span=(0, 14), match='(800)-555-1212'>"
      ]
     },
     "execution_count": 25,
     "metadata": {},
     "output_type": "execute_result"
    }
   ],
   "source": [
    "phone_re = re.compile('[(]?'   # optional left paren\n",
    "                      '\\d{3}'  # three digits\n",
    "                      '[)]?'   # optional right paren\n",
    "                      '[-]?'   # optional dash\n",
    "                      '\\s*'    # zero or more spaces\n",
    "                      '\\d{3}'  # three digits\n",
    "                      '-'      # dash\n",
    "                      '\\d{4}') # four digits\n",
    "\n",
    "phone_re.match('(800)-555-1212')"
   ]
  },
  {
   "cell_type": "markdown",
   "metadata": {},
   "source": [
    "We really have to create two regexes to handle these cases:"
   ]
  },
  {
   "cell_type": "code",
   "execution_count": 26,
   "metadata": {},
   "outputs": [
    {
     "name": "stdout",
     "output_type": "stream",
     "text": [
      "(800)555-1212\tmatch\n",
      "(800) 555-1212\tmatch\n",
      "800-555-1212\tmatch\n",
      "(800)-555-1212\tmiss\n"
     ]
    }
   ],
   "source": [
    "phone_re1 = re.compile('[(]'\n",
    "                       '\\d{3}'\n",
    "                       '[)]'\n",
    "                       '\\s*'\n",
    "                       '\\d{3}'\n",
    "                       '-'\n",
    "                       '\\d{4}')\n",
    "\n",
    "phone_re2 = re.compile('\\d{3}'\n",
    "                       '-'\n",
    "                       '\\d{3}'\n",
    "                       '-'\n",
    "                       '\\d{4}')\n",
    "\n",
    "phones = ['(800)555-1212', '(800) 555-1212', '800-555-1212', '(800)-555-1212']\n",
    "for phone in phones:\n",
    "    match1 = phone_re1.match(phone)\n",
    "    match2 = phone_re2.match(phone)\n",
    "    print('{}\\t{}'.format(phone, 'match' if match1 or match2 else 'miss'))"
   ]
  },
  {
   "cell_type": "markdown",
   "metadata": {
    "scrolled": true
   },
   "source": [
    "I worked with a graphic artist who always insisted on using dots as the number separator, and sometimes there are no separators at all. The combination of these two regexes find the valid formats and skip the invalid one."
   ]
  },
  {
   "cell_type": "code",
   "execution_count": 27,
   "metadata": {},
   "outputs": [
    {
     "name": "stdout",
     "output_type": "stream",
     "text": [
      "8005551212\tmatch\n",
      "(800)555-1212\tmatch\n",
      "(800) 555-1212\tmatch\n",
      "800-555-1212\tmatch\n",
      "(800)-555-1212\tmiss\n",
      "800.555.1212\tmatch\n"
     ]
    }
   ],
   "source": [
    "phone_re1 = re.compile('[(]'\n",
    "                       '\\d{3}'\n",
    "                       '[)]'\n",
    "                       '\\s*'\n",
    "                       '\\d{3}'\n",
    "                       '[.-]'\n",
    "                       '\\d{4}')\n",
    "\n",
    "phone_re2 = re.compile('\\d{3}'\n",
    "                       '[.-]?'\n",
    "                       '\\d{3}'\n",
    "                       '[.-]?'\n",
    "                       '\\d{4}')\n",
    "\n",
    "phones = ['8005551212', '(800)555-1212', '(800) 555-1212', \n",
    "          '800-555-1212', '(800)-555-1212', '800.555.1212']\n",
    "\n",
    "for phone in phones:\n",
    "    match = phone_re1.match(phone) or phone_re2.match(phone)\n",
    "    print('{}\\t{}'.format(phone, 'match' if match else 'miss'))"
   ]
  },
  {
   "cell_type": "markdown",
   "metadata": {
    "scrolled": true
   },
   "source": [
    "OK, now let's normalize the numbers by using parens to capture the area code, prefix, and line number and then  create a standard representation."
   ]
  },
  {
   "cell_type": "code",
   "execution_count": 28,
   "metadata": {
    "scrolled": true
   },
   "outputs": [
    {
     "name": "stdout",
     "output_type": "stream",
     "text": [
      "8005551212\t800-555-1212\n",
      "(800)555-1212\t800-555-1212\n",
      "(800) 555-1212\t800-555-1212\n",
      "800-555-1212\t800-555-1212\n",
      "(800)-555-1212\tmiss\n",
      "800.555.1212\t800-555-1212\n"
     ]
    }
   ],
   "source": [
    "phone_re1 = re.compile('[(]'\n",
    "                       '(\\d{3})'  # group 1\n",
    "                       '[)]'\n",
    "                       '\\s*'\n",
    "                       '(\\d{3})'  # group 2\n",
    "                       '[.-]'\n",
    "                       '(\\d{4})') # group 3\n",
    "\n",
    "phone_re2 = re.compile('(\\d{3})'  # group 1\n",
    "                       '[.-]?'\n",
    "                       '(\\d{3})'  # group 2\n",
    "                       '[.-]?'\n",
    "                       '(\\d{4})') # group 3\n",
    "\n",
    "phones = ['8005551212', '(800)555-1212', '(800) 555-1212', \n",
    "          '800-555-1212', '(800)-555-1212', '800.555.1212']\n",
    "\n",
    "for phone in phones:\n",
    "    match = phone_re1.match(phone) or phone_re2.match(phone)\n",
    "    standard = '{}-{}-{}'.format(match.group(1), \n",
    "                                 match.group(2), \n",
    "                                 match.group(3)) if match else 'miss'\n",
    "    print('{}\\t{}'.format(phone, standard))"
   ]
  },
  {
   "cell_type": "markdown",
   "metadata": {
    "scrolled": true
   },
   "source": [
    "And if we add named capture groups..."
   ]
  },
  {
   "cell_type": "code",
   "execution_count": 29,
   "metadata": {
    "scrolled": true
   },
   "outputs": [
    {
     "name": "stdout",
     "output_type": "stream",
     "text": [
      "8005551212\t800-555-1212\n",
      "(800)555-1212\t800-555-1212\n",
      "(800) 555-1212\t800-555-1212\n",
      "800-555-1212\t800-555-1212\n",
      "(800)-555-1212\tmiss\n",
      "800.555.1212\t800-555-1212\n"
     ]
    }
   ],
   "source": [
    "phone_re1 = re.compile('[(]'\n",
    "                       '(?P<area_code>\\d{3})'\n",
    "                       '[)]'\n",
    "                       '\\s*'\n",
    "                       '(?P<prefix>\\d{3})'\n",
    "                       '[.-]'\n",
    "                       '(?P<line_num>\\d{4})')\n",
    "\n",
    "phone_re2 = re.compile('(?P<area_code>\\d{3})'\n",
    "                       '[.-]?'\n",
    "                       '(?P<prefix>\\d{3})'\n",
    "                       '[.-]?'\n",
    "                       '(?P<line_num>\\d{4})')\n",
    "\n",
    "phones = ['8005551212', '(800)555-1212', '(800) 555-1212', \n",
    "          '800-555-1212', '(800)-555-1212', '800.555.1212']\n",
    "\n",
    "for phone in phones:\n",
    "    match = phone_re1.match(phone) or phone_re2.match(phone)\n",
    "    standard = '{}-{}-{}'.format(match.group('area_code'), \n",
    "                                 match.group('prefix'), \n",
    "                                 match.group('line_num')) if match else 'miss'\n",
    "    print('{}\\t{}'.format(phone, standard))"
   ]
  },
  {
   "cell_type": "markdown",
   "metadata": {
    "scrolled": true
   },
   "source": [
    "And if we add named capture groups and named groups in `format`:"
   ]
  },
  {
   "cell_type": "code",
   "execution_count": 30,
   "metadata": {
    "scrolled": true
   },
   "outputs": [
    {
     "name": "stdout",
     "output_type": "stream",
     "text": [
      "8005551212\t800-555-1212\n",
      "(800)555-1212\t800-555-1212\n",
      "(800) 555-1212\t800-555-1212\n",
      "800-555-1212\t800-555-1212\n",
      "(800)-555-1212\tmiss\n",
      "800.555.1212\t800-555-1212\n"
     ]
    }
   ],
   "source": [
    "phone_re1 = re.compile('[(]'\n",
    "                       '(?P<area_code>\\d{3})'\n",
    "                       '[)]'\n",
    "                       '\\s*(?P<prefix>\\d{3})'\n",
    "                       '[.-]'\n",
    "                       '(?P<line_num>\\d{4})')\n",
    "\n",
    "phone_re2 = re.compile('(?P<area_code>\\d{3})'\n",
    "                       '[.-]?'\n",
    "                       '(?P<prefix>\\d{3})'\n",
    "                       '[.-]?'\n",
    "                       '(?P<line_num>\\d{4})')\n",
    "\n",
    "phones = ['8005551212', '(800)555-1212', '(800) 555-1212', \n",
    "          '800-555-1212', '(800)-555-1212', '800.555.1212']\n",
    "\n",
    "for phone in phones:\n",
    "    match = phone_re1.match(phone) or phone_re2.match(phone)\n",
    "    tmpl = '{area_code}-{prefix}-{line_num}'\n",
    "    standard = tmpl.format(prefix=match.group('prefix'), \n",
    "                           area_code=match.group('area_code'),\n",
    "                           line_num=match.group('line_num')) if match else 'miss'\n",
    "    print('{}\\t{}'.format(phone, standard))"
   ]
  },
  {
   "cell_type": "markdown",
   "metadata": {},
   "source": [
    "## ENA Metadata\n",
    "\n",
    "Let's examine the ENA metadata from the XML parsing example. We see there are many ways that latitude/longitude have been represented:\n",
    "\n",
    "````\n",
    "$ ./xml_ena.py *.xml | grep lat_lon\n",
    "attr.lat_lon             : 27.83387,-65.4906\n",
    "attr.lat_lon             : 29.3 N 122.08 E\n",
    "attr.lat_lon             : 28.56_-88.70377\n",
    "attr.lat_lon             : 39.283N 76.611 W\n",
    "attr.lat_lon             : 78 N 5 E\n",
    "attr.lat_lon             : missing\n",
    "attr.lat_lon             : 0.00 N, 170.00 W\n",
    "attr.lat_lon             : 11.46'45.7\" 93.01'22.3\"\n",
    "````"
   ]
  },
  {
   "cell_type": "markdown",
   "metadata": {},
   "source": [
    "How can we go about parsing all the various ways this data has been encoded? Regular expressions provide us a way to describe in very specific way what we want. \n",
    "\n",
    "Let's start just with the idea of matching a number (where \"number\" is a string that could be parsed into a number) like \"27.83387\":"
   ]
  },
  {
   "cell_type": "code",
   "execution_count": 32,
   "metadata": {},
   "outputs": [
    {
     "name": "stdout",
     "output_type": "stream",
     "text": [
      "<_sre.SRE_Match object; span=(0, 1), match='2'>\n"
     ]
    }
   ],
   "source": [
    "print(re.search('\\d', '27.83387'))"
   ]
  },
  {
   "cell_type": "markdown",
   "metadata": {},
   "source": [
    "The `\\d` pattern means \"any number\" which is the same as `[0-9]` where the `[]` creates a class of characters and `0-9` expands to all the numbers from zero to nine. The problem is that it only matches one number, `2`. Change it to `\\d+` to indicate \"one or more numbers\":"
   ]
  },
  {
   "cell_type": "code",
   "execution_count": 30,
   "metadata": {},
   "outputs": [
    {
     "data": {
      "text/plain": [
       "<_sre.SRE_Match object; span=(0, 2), match='27'>"
      ]
     },
     "execution_count": 30,
     "metadata": {},
     "output_type": "execute_result"
    }
   ],
   "source": [
    "re.search('\\d+', '27.83387')"
   ]
  },
  {
   "cell_type": "markdown",
   "metadata": {},
   "source": [
    "Now let's capture the decimal point: "
   ]
  },
  {
   "cell_type": "code",
   "execution_count": 31,
   "metadata": {},
   "outputs": [
    {
     "data": {
      "text/plain": [
       "<_sre.SRE_Match object; span=(0, 3), match='27.'>"
      ]
     },
     "execution_count": 31,
     "metadata": {},
     "output_type": "execute_result"
    }
   ],
   "source": [
    "re.search('\\d+.', '27.83387')"
   ]
  },
  {
   "cell_type": "markdown",
   "metadata": {},
   "source": [
    "You might think that's perfect, but the `.` has a special meaning in regex. It means \"one of anything\", so it matches this, too:"
   ]
  },
  {
   "cell_type": "code",
   "execution_count": 32,
   "metadata": {},
   "outputs": [
    {
     "data": {
      "text/plain": [
       "<_sre.SRE_Match object; span=(0, 3), match='27x'>"
      ]
     },
     "execution_count": 32,
     "metadata": {},
     "output_type": "execute_result"
    }
   ],
   "source": [
    "re.search('\\d+.', '27x83387')"
   ]
  },
  {
   "cell_type": "markdown",
   "metadata": {},
   "source": [
    "To indicate we want a literal `.` we have to make it `\\.` (backslash-escape):"
   ]
  },
  {
   "cell_type": "code",
   "execution_count": 33,
   "metadata": {},
   "outputs": [
    {
     "name": "stdout",
     "output_type": "stream",
     "text": [
      "<_sre.SRE_Match object; span=(0, 3), match='27.'>\n",
      "None\n"
     ]
    }
   ],
   "source": [
    "print(re.search('\\d+\\.', '27.83387'))\n",
    "print(re.search('\\d+\\.', '27x83387'))"
   ]
  },
  {
   "cell_type": "markdown",
   "metadata": {},
   "source": [
    "Notice that the second try returns nothing.\n",
    "\n",
    "To capture the bit after the `.`, add more numbers:"
   ]
  },
  {
   "cell_type": "code",
   "execution_count": 34,
   "metadata": {},
   "outputs": [
    {
     "data": {
      "text/plain": [
       "<_sre.SRE_Match object; span=(0, 8), match='27.83387'>"
      ]
     },
     "execution_count": 34,
     "metadata": {},
     "output_type": "execute_result"
    }
   ],
   "source": [
    "re.search('\\d+\\.\\d+', '27.83387')"
   ]
  },
  {
   "cell_type": "markdown",
   "metadata": {},
   "source": [
    "But we won't always see floats. Can we make this regex match integers, too? We can indicate that part of a pattern is optional by putting a `?` after it. Since we need more than one thing to be optional, we need to wrap it in parens:"
   ]
  },
  {
   "cell_type": "code",
   "execution_count": 35,
   "metadata": {},
   "outputs": [
    {
     "name": "stdout",
     "output_type": "stream",
     "text": [
      "None\n",
      "<_sre.SRE_Match object; span=(0, 2), match='27'>\n",
      "<_sre.SRE_Match object; span=(0, 8), match='27.83387'>\n"
     ]
    }
   ],
   "source": [
    "print(re.search('\\d+\\.\\d+', '27'))\n",
    "print(re.search('\\d+(\\.\\d+)?', '27'))\n",
    "print(re.search('\\d+(\\.\\d+)?', '27.83387'))"
   ]
  },
  {
   "cell_type": "markdown",
   "metadata": {},
   "source": [
    "What if there is a negative symbol in front? Add `-?` (an optional dash) at the beginning:"
   ]
  },
  {
   "cell_type": "code",
   "execution_count": 36,
   "metadata": {},
   "outputs": [
    {
     "name": "stdout",
     "output_type": "stream",
     "text": [
      "<_sre.SRE_Match object; span=(0, 9), match='-27.83387'>\n",
      "<_sre.SRE_Match object; span=(0, 8), match='27.83387'>\n",
      "<_sre.SRE_Match object; span=(0, 3), match='-27'>\n",
      "<_sre.SRE_Match object; span=(0, 2), match='27'>\n"
     ]
    }
   ],
   "source": [
    "print(re.search('-?\\d+(\\.\\d+)?', '-27.83387'))\n",
    "print(re.search('-?\\d+(\\.\\d+)?', '27.83387'))\n",
    "print(re.search('-?\\d+(\\.\\d+)?', '-27'))\n",
    "print(re.search('-?\\d+(\\.\\d+)?', '27'))"
   ]
  },
  {
   "cell_type": "markdown",
   "metadata": {},
   "source": [
    "Sometimes we actually find a `+` at the beginning, so we can make an optional character class `[+-]?`:"
   ]
  },
  {
   "cell_type": "code",
   "execution_count": 37,
   "metadata": {},
   "outputs": [
    {
     "name": "stdout",
     "output_type": "stream",
     "text": [
      "<_sre.SRE_Match object; span=(0, 9), match='-27.83387'>\n",
      "<_sre.SRE_Match object; span=(0, 9), match='+27.83387'>\n",
      "<_sre.SRE_Match object; span=(0, 8), match='27.83387'>\n"
     ]
    }
   ],
   "source": [
    "print(re.search('[+-]?\\d+(\\.\\d+)?', '-27.83387'))\n",
    "print(re.search('[+-]?\\d+(\\.\\d+)?', '+27.83387'))\n",
    "print(re.search('[+-]?\\d+(\\.\\d+)?', '27.83387'))"
   ]
  },
  {
   "cell_type": "markdown",
   "metadata": {},
   "source": [
    "Now we can match things that basically look like a floating point number or an integer, both positive and negative.\n",
    "\n",
    "Usually the data we want to find it part of a larger string, however, and the above fails to capture more than one thing, e.g.:"
   ]
  },
  {
   "cell_type": "code",
   "execution_count": 38,
   "metadata": {},
   "outputs": [
    {
     "name": "stdout",
     "output_type": "stream",
     "text": [
      "<_sre.SRE_Match object; span=(8, 17), match='-27.83387'>\n"
     ]
    }
   ],
   "source": [
    "print(re.search('[+-]?\\d+(\\.\\d+)?', 'Lat is \"-27.83387\" and lon is \"+132.43.\"'))"
   ]
  },
  {
   "cell_type": "markdown",
   "metadata": {},
   "source": [
    "We really need to match more than once using our pattern matching to extract data. We saw earlier that we can use parens to group optional patterns, but the parens also end up creating a **capture group** that we can refer to by position:"
   ]
  },
  {
   "cell_type": "code",
   "execution_count": 33,
   "metadata": {},
   "outputs": [
    {
     "data": {
      "text/plain": [
       "[('-27.83387', '.83387'), ('+132.43', '.43')]"
      ]
     },
     "execution_count": 33,
     "metadata": {},
     "output_type": "execute_result"
    }
   ],
   "source": [
    "re.findall('([+-]?\\d+(\\.\\d+)?)','Lat is \"-27.83387\" and lon is \"+132.43.\"')"
   ]
  },
  {
   "cell_type": "markdown",
   "metadata": {},
   "source": [
    "OK, it was a bit unexpected that we have matches for both the whole float and the decimal part. This is because of the dual nature of the parens, and in the case of using them to group the optional part we are also creating another capture. If we change `()` to `(?:)`, we make this a non-capturing group:"
   ]
  },
  {
   "cell_type": "code",
   "execution_count": 34,
   "metadata": {},
   "outputs": [
    {
     "data": {
      "text/plain": [
       "['-27.83387', '+132.43']"
      ]
     },
     "execution_count": 34,
     "metadata": {},
     "output_type": "execute_result"
    }
   ],
   "source": [
    "re.findall('([+-]?\\d+(?:\\.\\d+)?)', 'Lat is \"-27.83387\" and lon is \"+132.43.\"')"
   ]
  },
  {
   "cell_type": "markdown",
   "metadata": {},
   "source": [
    "There are many resources you can use to thoroughly learn regular expressions, so I won't try to cover them completely here. I will mostly try to introduce the general idea and show you some useful regexes you could steal.\n",
    "\n",
    "Here is an example of how you can embed regexes in your Python code. This version can parse all the versions of latitude/longitude shown above. This code uses parens to create capture groups which it then uses `match.group(n)` to extract:\n",
    "\n",
    "````\n",
    "$ cat -n parse_lat_lon.py\n",
    "     1\t#!/usr/bin/env python3\n",
    "     2\n",
    "     3\timport os\n",
    "     4\timport re\n",
    "     5\timport sys\n",
    "     6\n",
    "     7\targs = sys.argv[1:]\n",
    "     8\n",
    "     9\tif len(args) != 1:\n",
    "    10\t    print('Usage: {} FILE'.format(os.path.basename(sys.argv[0])))\n",
    "    11\t    sys.exit(1)\n",
    "    12\n",
    "    13\tfile = args[0]\n",
    "    14\n",
    "    15\tfloat_ = r'[+-]?\\d+\\.*\\d*'\n",
    "    16\tll1 = re.compile('(' + float_ + ')\\s*[,_]\\s*(' + float_ + ')')\n",
    "    17\tll2 = re.compile('(' + float_ + ')(?:\\s*([NS]))?(?:\\s*,)?\\s+(' + float_ +\n",
    "    18\t                 ')(?:\\s*([EW])?)')\n",
    "    19\tloc_hms = r\"\"\"\n",
    "    20\t\\d+\\.\\d+'\\d+\\.\\d+\"\n",
    "    21\t\"\"\".strip()\n",
    "    22\tll3 = re.compile('(' + loc_hms + ')\\s+(' + loc_hms + ')')\n",
    "    23\n",
    "    24\tfor line in open(file):\n",
    "    25\t    line = line.rstrip()\n",
    "    26\t    ll_match1 = ll1.search(line)\n",
    "    27\t    ll_match2 = ll2.search(line)\n",
    "    28\t    ll_match3 = ll3.search(line)\n",
    "    29\n",
    "    30\t    if ll_match1:\n",
    "    31\t        lat, lon = ll_match1.group(1), ll_match1.group(2)\n",
    "    32\t        lat = float(lat)\n",
    "    33\t        lon = float(lon)\n",
    "    34\t        print('lat = {}, lon = {}'.format(lat, lon))\n",
    "    35\t    elif ll_match2:\n",
    "    36\t        lat, lat_dir, lon, lon_dir = ll_match2.group(\n",
    "    37\t            1), ll_match2.group(2), ll_match2.group(\n",
    "    38\t                3), ll_match2.group(4)\n",
    "    39\t        lat = float(lat)\n",
    "    40\t        lon = float(lon)\n",
    "    41\n",
    "    42\t        if lat_dir == 'S':\n",
    "    43\t            lat *= -1\n",
    "    44\n",
    "    45\t        if lon_dir == 'W':\n",
    "    46\t            lon *= -1\n",
    "    47\t        print('lat = {}, lon = {}'.format(lat, lon))\n",
    "    48\t    elif ll_match3:\n",
    "    49\t        lat, lon = ll_match3.group(1), ll_match3.group(2)\n",
    "    50\t        print('lat = {}, lon = {}'.format(lat, lon))\n",
    "    51\t    else:\n",
    "    52\t        print('No match: \"{}\"'.format(line))\n",
    "$ cat lat_lon.txt\n",
    "attr.lat_lon             : 27.83387,-65.4906\n",
    "attr.lat_lon             : 29.3 N 122.08 E\n",
    "attr.lat_lon             : 28.56_-88.70377\n",
    "This line will not be included\n",
    "attr.lat_lon             : 39.283N 76.611 W\n",
    "attr.lat_lon             : 78 N 5 E\n",
    "attr.lat_lon             : missing\n",
    "attr.lat_lon             : 0.00 N, 170.00 W\n",
    "attr.lat_lon             : 11.46'45.7\" 93.01'22.3\"\n",
    "$ ./parse_lat_lon.py lat_lon.txt\n",
    "lat = 27.83387, lon = -65.4906\n",
    "lat = 29.3, lon = 122.08\n",
    "lat = 28.56, lon = -88.70377\n",
    "No match: \"This line will not be included\"\n",
    "lat = 39.283, lon = -76.611\n",
    "lat = 78.0, lon = 5.0\n",
    "No match: \"attr.lat_lon             : missing\"\n",
    "lat = 0.0, lon = -170.0\n",
    "lat = 11.46'45.7\", lon = 93.01'22.3\"\n",
    "````\n",
    "\n",
    "We see a similar problem with \"collection_date\":\n",
    "\n",
    "````\n",
    "$ ./xml_ena.py *.xml | grep collection\n",
    "attr.collection_date     : March 24, 2014\n",
    "attr.collection_date     : 2013-08-15/2013-08-28\n",
    "attr.collection_date     : 20100910\n",
    "attr.collection_date     : 02-May-2012\n",
    "attr.collection_date     : Jul-2009\n",
    "attr.collection_date     : missing\n",
    "attr.collection_date     : 2013-12-23\n",
    "attr.collection_date     : 5/04/2012\n",
    "````\n",
    "\n",
    "Imagine how you might go about parsing all these various representations of dates. Be aware that parsing date/time formats is so problematic and ubiquitous that many people have already written modules to assist you! \n",
    "\n",
    "To run the code below, you will need to install the `dateparser` module:\n",
    "\n",
    "````\n",
    "$ python3 -m pip install dateparser\n",
    "````"
   ]
  },
  {
   "cell_type": "code",
   "execution_count": 39,
   "metadata": {},
   "outputs": [
    {
     "name": "stdout",
     "output_type": "stream",
     "text": [
      "March 24, 2014 \t2014-03-24 00:00:00\n",
      "2013-08-15     \t2013-08-15 00:00:00\n",
      "20100910       \t2000-02-01 09:01:00\n",
      "02-May-2012    \t2012-05-02 00:00:00\n",
      "Jul-2009       \t2009-07-26 00:00:00\n",
      "5/04/2012      \t2012-05-04 00:00:00\n"
     ]
    }
   ],
   "source": [
    "import dateparser\n",
    "for date in ['March 24, 2014', \n",
    "             '2013-08-15', \n",
    "             '20100910', \n",
    "             '02-May-2012', \n",
    "             'Jul-2009', \n",
    "             '5/04/2012']:\n",
    "    \n",
    "    print('{:15}\\t{}'.format(date, dateparser.parse(date)))"
   ]
  },
  {
   "cell_type": "markdown",
   "metadata": {},
   "source": [
    "You can see it's not perfect, e.g., \"20100910\" should be \"2010-09-10\" and \"Jul-2009\" should not resolve to the 26th of July, but, honestly, what should it be? (Is the 1st any better?!) Still, this saves you writing a lot of code. And, trust me, **THIS IS REAL DATA**! While trying to parse latitude, longitude, collection date, and depth for 35K marine metagenomes from the ENA, I wrote a hundreds of lines of code and dozens of regular expressions!"
   ]
  },
  {
   "cell_type": "markdown",
   "metadata": {
    "scrolled": true
   },
   "source": [
    "## Exercises\n",
    "\n",
    "Write the regular expressions to parse the year, month, and day from the following date formats found in SRA metadata. When no day is present, e.g., \"2/14,\" use \"01\" for the day."
   ]
  },
  {
   "cell_type": "code",
   "execution_count": 101,
   "metadata": {},
   "outputs": [
    {
     "name": "stdout",
     "output_type": "stream",
     "text": [
      "2012-03-09T08:59 <_sre.SRE_Match object; span=(0, 0), match=''>\n"
     ]
    }
   ],
   "source": [
    "d1 = \"2012-03-09T08:59\"\n",
    "print(d1, re.match('', d1))"
   ]
  },
  {
   "cell_type": "code",
   "execution_count": 102,
   "metadata": {},
   "outputs": [],
   "source": [
    "d2 = \"2012-03-09T08:59:03\""
   ]
  },
  {
   "cell_type": "code",
   "execution_count": 103,
   "metadata": {},
   "outputs": [],
   "source": [
    "d3 = \"2017-06-16Z\""
   ]
  },
  {
   "cell_type": "code",
   "execution_count": 104,
   "metadata": {},
   "outputs": [],
   "source": [
    "d4 = \"2015-01\""
   ]
  },
  {
   "cell_type": "code",
   "execution_count": 105,
   "metadata": {},
   "outputs": [],
   "source": [
    "d5 = \"2015-01/2015-02\""
   ]
  },
  {
   "cell_type": "code",
   "execution_count": 106,
   "metadata": {},
   "outputs": [],
   "source": [
    "d6 = \"2015-01-03/2015-02-14\" "
   ]
  },
  {
   "cell_type": "code",
   "execution_count": 107,
   "metadata": {},
   "outputs": [],
   "source": [
    "d7 = \"20100910\""
   ]
  },
  {
   "cell_type": "code",
   "execution_count": 108,
   "metadata": {},
   "outputs": [],
   "source": [
    "d8 = \"12/06\""
   ]
  },
  {
   "cell_type": "code",
   "execution_count": 109,
   "metadata": {},
   "outputs": [],
   "source": [
    "d9 = \"2/14\""
   ]
  },
  {
   "cell_type": "code",
   "execution_count": 110,
   "metadata": {},
   "outputs": [],
   "source": [
    "d10 = \"2/14-12/15\""
   ]
  },
  {
   "cell_type": "code",
   "execution_count": 111,
   "metadata": {},
   "outputs": [],
   "source": [
    "d11 = \"2017-06-16Z\""
   ]
  },
  {
   "cell_type": "code",
   "execution_count": 112,
   "metadata": {},
   "outputs": [],
   "source": [
    "# \"Excel\" format! What is that?! Look it up.\n",
    "d12 = \"34210\""
   ]
  },
  {
   "cell_type": "code",
   "execution_count": 113,
   "metadata": {},
   "outputs": [],
   "source": [
    "d13 = \"Dec-2015\""
   ]
  },
  {
   "cell_type": "code",
   "execution_count": 114,
   "metadata": {},
   "outputs": [],
   "source": [
    "d14 = \"March-2017\""
   ]
  },
  {
   "cell_type": "code",
   "execution_count": 115,
   "metadata": {},
   "outputs": [],
   "source": [
    "d15 = \"May, 2017\""
   ]
  },
  {
   "cell_type": "code",
   "execution_count": 116,
   "metadata": {},
   "outputs": [],
   "source": [
    "d16 = \"March-April 2017\""
   ]
  },
  {
   "cell_type": "code",
   "execution_count": 117,
   "metadata": {},
   "outputs": [],
   "source": [
    "d17 = \"July of 2011\""
   ]
  },
  {
   "cell_type": "code",
   "execution_count": 118,
   "metadata": {
    "scrolled": true
   },
   "outputs": [],
   "source": [
    "d18 = \"2008 August\""
   ]
  },
  {
   "cell_type": "markdown",
   "metadata": {
    "scrolled": true
   },
   "source": [
    "Now combine all your code from the previous cell to normalize all the dates into the same format."
   ]
  },
  {
   "cell_type": "code",
   "execution_count": 119,
   "metadata": {
    "scrolled": true
   },
   "outputs": [
    {
     "name": "stdout",
     "output_type": "stream",
     "text": [
      "1999-01-01\t2012-03-09T08:59\n",
      "1999-01-01\t2012-03-09T08:59:03\n",
      "1999-01-01\t2017-06-16Z\n",
      "1999-01-01\t2015-01\n",
      "1999-01-01\t2015-01/2015-02\n",
      "1999-01-01\t2015-01-03/2015-02-14\n",
      "1999-01-01\t20100910\n",
      "1999-01-01\t12/06\n",
      "1999-01-01\t2/14\n",
      "1999-01-01\t2/14-12/15\n",
      "1999-01-01\t2017-06-16Z\n",
      "1999-01-01\t34210\n",
      "1999-01-01\tDec-2015\n",
      "1999-01-01\tMarch-2017\n",
      "1999-01-01\tMay, 2017\n",
      "1999-01-01\tMarch-April 2017\n",
      "1999-01-01\tJuly of 2011\n",
      "1999-01-01\t2008 August\n"
     ]
    }
   ],
   "source": [
    "dates = [\"2012-03-09T08:59\", \"2012-03-09T08:59:03\", \"2017-06-16Z\", \n",
    "         \"2015-01\", \"2015-01/2015-02\", \"2015-01-03/2015-02-14\", \n",
    "         \"20100910\", \"12/06\", \"2/14\", \"2/14-12/15\", \"2017-06-16Z\", \n",
    "         \"34210\", \"Dec-2015\", \"March-2017\", \"May, 2017\", \n",
    "         \"March-April 2017\", \"July of 2011\", \"2008 August\"]\n",
    "\n",
    "for date in dates:\n",
    "    year = '1999'\n",
    "    month = '01'\n",
    "    day = '01'\n",
    "    print('{}-{}-{}\\t{}'.format(year, month, day, date))"
   ]
  },
  {
   "cell_type": "code",
   "execution_count": null,
   "metadata": {},
   "outputs": [],
   "source": []
  }
 ],
 "metadata": {
  "kernelspec": {
   "display_name": "Python 3",
   "language": "python",
   "name": "python3"
  },
  "language_info": {
   "codemirror_mode": {
    "name": "ipython",
    "version": 3
   },
   "file_extension": ".py",
   "mimetype": "text/x-python",
   "name": "python",
   "nbconvert_exporter": "python",
   "pygments_lexer": "ipython3",
   "version": "3.6.8"
  }
 },
 "nbformat": 4,
 "nbformat_minor": 2
}
