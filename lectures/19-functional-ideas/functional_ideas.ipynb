{
 "cells": [
  {
   "cell_type": "markdown",
   "metadata": {},
   "source": [
    "# Functional Ideas in Python\n",
    "\n",
    "\"Gematria\" is a system for assigning a number to a word by summing the numeric values of each of the letters as defined by the Mispar godol (https://en.wikipedia.org/wiki/Gematria). For English characters, we can use the ASCII table (https://en.wikipedia.org/wiki/ASCII). It is not necessary, however, to encode this table in our program as Python provides the `ord` function to convert a character to its \"ordinal\" (order in the ASCII table) value as well as the `chr` function to convert a number to its \"character.\""
   ]
  },
  {
   "cell_type": "code",
   "execution_count": 2,
   "metadata": {},
   "outputs": [
    {
     "name": "stdout",
     "output_type": "stream",
     "text": [
      "\"A\" = \"65\"\n"
     ]
    }
   ],
   "source": [
    "print('\"{}\" = \"{}\"'.format('A', ord('A')))"
   ]
  },
  {
   "cell_type": "code",
   "execution_count": 3,
   "metadata": {},
   "outputs": [
    {
     "name": "stdout",
     "output_type": "stream",
     "text": [
      "\"a\" = \"97\"\n"
     ]
    }
   ],
   "source": [
    "print('\"{}\" = \"{}\"'.format('a', ord('a')))"
   ]
  },
  {
   "cell_type": "code",
   "execution_count": 4,
   "metadata": {},
   "outputs": [
    {
     "name": "stdout",
     "output_type": "stream",
     "text": [
      "\"88\" = \"X\"\n"
     ]
    }
   ],
   "source": [
    "print('\"{}\" = \"{}\"'.format(88, chr(88)))"
   ]
  },
  {
   "cell_type": "code",
   "execution_count": 5,
   "metadata": {},
   "outputs": [
    {
     "name": "stdout",
     "output_type": "stream",
     "text": [
      "\"112\" = \"p\"\n"
     ]
    }
   ],
   "source": [
    "print('\"{}\" = \"{}\"'.format(112, chr(112)))"
   ]
  },
  {
   "cell_type": "markdown",
   "metadata": {},
   "source": [
    "To implement an ASCII version of gematria in Python, we need to turn each letter into a number and add them all together.  So, to start, note that Python can use a `for` loop to cycle through all the members of a list (in order):"
   ]
  },
  {
   "cell_type": "code",
   "execution_count": 177,
   "metadata": {},
   "outputs": [
    {
     "name": "stdout",
     "output_type": "stream",
     "text": [
      "0\n",
      "1\n",
      "2\n",
      "3\n",
      "4\n"
     ]
    }
   ],
   "source": [
    "for n in range(5):\n",
    "    print(n)"
   ]
  },
  {
   "cell_type": "code",
   "execution_count": 178,
   "metadata": {},
   "outputs": [
    {
     "name": "stdout",
     "output_type": "stream",
     "text": [
      "p\n",
      "y\n",
      "t\n",
      "h\n",
      "o\n",
      "n\n"
     ]
    }
   ],
   "source": [
    "for char in ['p', 'y', 't', 'h', 'o', 'n']:\n",
    "    print(char)"
   ]
  },
  {
   "cell_type": "markdown",
   "metadata": {},
   "source": [
    "A \"word\" is simply a list of characters, so we can iterate over it just like a list of numbers:"
   ]
  },
  {
   "cell_type": "code",
   "execution_count": 179,
   "metadata": {},
   "outputs": [
    {
     "name": "stdout",
     "output_type": "stream",
     "text": [
      "p\n",
      "y\n",
      "t\n",
      "h\n",
      "o\n",
      "n\n"
     ]
    }
   ],
   "source": [
    "for char in \"python\":\n",
    "    print(char)"
   ]
  },
  {
   "cell_type": "markdown",
   "metadata": {},
   "source": [
    "Let's print the ordinal (ASCII) value instead:"
   ]
  },
  {
   "cell_type": "code",
   "execution_count": 180,
   "metadata": {},
   "outputs": [
    {
     "name": "stdout",
     "output_type": "stream",
     "text": [
      "\"p\" = \"112\"\n",
      "\"y\" = \"121\"\n",
      "\"t\" = \"116\"\n",
      "\"h\" = \"104\"\n",
      "\"o\" = \"111\"\n",
      "\"n\" = \"110\"\n"
     ]
    }
   ],
   "source": [
    "for char in \"python\":\n",
    "    print('\"{}\" = \"{}\"'.format(char, ord(char)))"
   ]
  },
  {
   "cell_type": "markdown",
   "metadata": {},
   "source": [
    "Now let's create a variable to hold the running sum of the values:"
   ]
  },
  {
   "cell_type": "code",
   "execution_count": 181,
   "metadata": {},
   "outputs": [
    {
     "name": "stdout",
     "output_type": "stream",
     "text": [
      "\"python\" = \"674\"\n"
     ]
    }
   ],
   "source": [
    "word = \"python\"\n",
    "total = 0\n",
    "for char in word: \n",
    "    total += ord(char)\n",
    "\n",
    "print('\"{}\" = \"{}\"'.format(word, total))"
   ]
  },
  {
   "cell_type": "markdown",
   "metadata": {},
   "source": [
    "Another way could be to create another list to hold the values and then use the `sum` function:"
   ]
  },
  {
   "cell_type": "code",
   "execution_count": 182,
   "metadata": {},
   "outputs": [
    {
     "name": "stdout",
     "output_type": "stream",
     "text": [
      "[112, 121, 116, 104, 111, 110]\n",
      "\"python\" = \"674\"\n"
     ]
    }
   ],
   "source": [
    "word = \"python\"\n",
    "all = []\n",
    "for char in word: \n",
    "    all.append(ord(char))\n",
    "\n",
    "print(all)\n",
    "print('\"{}\" = \"{}\"'.format(word, sum(all)))"
   ]
  },
  {
   "cell_type": "markdown",
   "metadata": {},
   "source": [
    "## Map\n",
    "\n",
    "We can use a `map` function to transform all the characters via the `ord` function. This is interesting because `map` is a function that takes another function as its first argument. The second is a list of items to feed into the function. The result is the transformed list. For instance, we can use the `str.upper` function to turn each letter (e.g., \"p\") into the upper-case version (\"P\"). NB: it's necessary to force the results into a `list`."
   ]
  },
  {
   "cell_type": "code",
   "execution_count": 2,
   "metadata": {},
   "outputs": [
    {
     "data": {
      "text/plain": [
       "['P', 'Y', 'T', 'H', 'O', 'N']"
      ]
     },
     "execution_count": 2,
     "metadata": {},
     "output_type": "execute_result"
    }
   ],
   "source": [
    "list(map(str.upper, \"python\"))"
   ]
  },
  {
   "cell_type": "code",
   "execution_count": 184,
   "metadata": {},
   "outputs": [
    {
     "data": {
      "text/plain": [
       "[112, 121, 116, 104, 111, 110]"
      ]
     },
     "execution_count": 184,
     "metadata": {},
     "output_type": "execute_result"
    }
   ],
   "source": [
    "list(map(ord, \"python\"))"
   ]
  },
  {
   "cell_type": "markdown",
   "metadata": {},
   "source": [
    "Now we can `sum` those numbers:"
   ]
  },
  {
   "cell_type": "code",
   "execution_count": 185,
   "metadata": {},
   "outputs": [
    {
     "data": {
      "text/plain": [
       "674"
      ]
     },
     "execution_count": 185,
     "metadata": {},
     "output_type": "execute_result"
    }
   ],
   "source": [
    "sum(map(ord, \"python\"))"
   ]
  },
  {
   "cell_type": "markdown",
   "metadata": {},
   "source": [
    "Now let's think about how we could apply this to all the words in a file. As above, we can use a `for` loop to iterate over all the lines in a file:"
   ]
  },
  {
   "cell_type": "code",
   "execution_count": 186,
   "metadata": {},
   "outputs": [
    {
     "name": "stdout",
     "output_type": "stream",
     "text": [
      "Four score and seven years ago our fathers brought forth on this\n",
      "\n",
      "continent, a new nation, conceived in Liberty, and dedicated to the\n",
      "\n",
      "proposition that all men are created equal.\n",
      "\n"
     ]
    }
   ],
   "source": [
    "for line in open('gettysburg.txt'):\n",
    "    print(line)"
   ]
  },
  {
   "cell_type": "markdown",
   "metadata": {},
   "source": [
    "The original is single-spaced, so why is this printing double-spaced? The `for` loop reads each \"line\" which is a string of text up to and including a newline. The `print` by default adds a newline, so we either need to `print(line, end='')` to indicate we don't want anything at the end:"
   ]
  },
  {
   "cell_type": "code",
   "execution_count": 187,
   "metadata": {},
   "outputs": [
    {
     "name": "stdout",
     "output_type": "stream",
     "text": [
      "Four score and seven years ago our fathers brought forth on this\n",
      "continent, a new nation, conceived in Liberty, and dedicated to the\n",
      "proposition that all men are created equal.\n"
     ]
    }
   ],
   "source": [
    "for line in open('gettysburg.txt'):\n",
    "    print(line, end='')"
   ]
  },
  {
   "cell_type": "markdown",
   "metadata": {},
   "source": [
    "Or we need to use the `rstrip` function to \"strip\" whitespace off the \"r\"ight side of the line:"
   ]
  },
  {
   "cell_type": "code",
   "execution_count": 188,
   "metadata": {},
   "outputs": [
    {
     "name": "stdout",
     "output_type": "stream",
     "text": [
      "Four score and seven years ago our fathers brought forth on this\n",
      "continent, a new nation, conceived in Liberty, and dedicated to the\n",
      "proposition that all men are created equal.\n"
     ]
    }
   ],
   "source": [
    "for line in open('gettysburg.txt'):\n",
    "    print(line.rstrip())"
   ]
  },
  {
   "cell_type": "markdown",
   "metadata": {},
   "source": [
    "We can use the `split` function to get all the words for each line and a `for` loop to iterate over those:"
   ]
  },
  {
   "cell_type": "code",
   "execution_count": 189,
   "metadata": {},
   "outputs": [
    {
     "name": "stdout",
     "output_type": "stream",
     "text": [
      "Four\n",
      "score\n",
      "and\n",
      "seven\n",
      "years\n",
      "ago\n",
      "our\n",
      "fathers\n",
      "brought\n",
      "forth\n",
      "on\n",
      "this\n",
      "continent,\n",
      "a\n",
      "new\n",
      "nation,\n",
      "conceived\n",
      "in\n",
      "Liberty,\n",
      "and\n",
      "dedicated\n",
      "to\n",
      "the\n",
      "proposition\n",
      "that\n",
      "all\n",
      "men\n",
      "are\n",
      "created\n",
      "equal.\n"
     ]
    }
   ],
   "source": [
    "for line in open('gettysburg.txt'):\n",
    "    for word in line.rstrip().split():\n",
    "        print(word)"
   ]
  },
  {
   "cell_type": "markdown",
   "metadata": {},
   "source": [
    "We want to get rid of anything that is not character like the punctuation. There is a function in the `str` library called `isalpha` that returns `True` or `False`:"
   ]
  },
  {
   "cell_type": "code",
   "execution_count": 3,
   "metadata": {},
   "outputs": [
    {
     "name": "stdout",
     "output_type": "stream",
     "text": [
      "\"a\" = \"True\"\n",
      "\"8\" = \"False\"\n",
      "\",\" = \"False\"\n",
      "\"X\" = \"True\"\n",
      "\".\" = \"False\"\n",
      "\"b\" = \"True\"\n",
      "\"!\" = \"False\"\n",
      "\"G\" = \"True\"\n"
     ]
    }
   ],
   "source": [
    "for char in \"a8,X.b!G\":\n",
    "    print('\"{}\" = \"{}\"'.format(char, str.isalpha(char)))"
   ]
  },
  {
   "cell_type": "markdown",
   "metadata": {},
   "source": [
    "Each `char` in the loop is itself a string, so we can call the method directly on the variable:"
   ]
  },
  {
   "cell_type": "code",
   "execution_count": 4,
   "metadata": {},
   "outputs": [
    {
     "name": "stdout",
     "output_type": "stream",
     "text": [
      "\"a\" = \"True\"\n",
      "\"8\" = \"False\"\n",
      "\",\" = \"False\"\n",
      "\"X\" = \"True\"\n",
      "\".\" = \"False\"\n",
      "\"b\" = \"True\"\n",
      "\"!\" = \"False\"\n",
      "\"G\" = \"True\"\n"
     ]
    }
   ],
   "source": [
    "for char in \"a8,X.b!G\":\n",
    "    print('\"{}\" = \"{}\"'.format(char, char.isalpha()))"
   ]
  },
  {
   "cell_type": "markdown",
   "metadata": {},
   "source": [
    "# Filter\n",
    "\n",
    "Similar to what we saw above with the `map` function, we can use `filter` to find all the characters in a string which are `True` for `isalpha`. `filter` is another \"higher-order function\" that takes another function for its first argument (called the \"predicate\") and a list as the second argument. Whereas `map` returns *all* the elements of the list transformed by the function, `filter` returns *only those for which the predicate is true*."
   ]
  },
  {
   "cell_type": "code",
   "execution_count": 192,
   "metadata": {},
   "outputs": [
    {
     "data": {
      "text/plain": [
       "['a', 'X', 'b', 'G']"
      ]
     },
     "execution_count": 192,
     "metadata": {},
     "output_type": "execute_result"
    }
   ],
   "source": [
    "list(filter(str.isalpha, \"a8,X.b!G\"))"
   ]
  },
  {
   "cell_type": "markdown",
   "metadata": {},
   "source": [
    "The first argument for `map` and `filter` is called the \"lambda,\" and sometimes you will see it written out explicitly like so:"
   ]
  },
  {
   "cell_type": "code",
   "execution_count": 193,
   "metadata": {},
   "outputs": [
    {
     "data": {
      "text/plain": [
       "['a', 'X', 'b', 'G']"
      ]
     },
     "execution_count": 193,
     "metadata": {},
     "output_type": "execute_result"
    }
   ],
   "source": [
    "list(filter(lambda char: char.isalpha(), \"a8,X.b!G\"))"
   ]
  },
  {
   "cell_type": "markdown",
   "metadata": {},
   "source": [
    "Here is a way to find only even numbers:"
   ]
  },
  {
   "cell_type": "code",
   "execution_count": 194,
   "metadata": {
    "scrolled": true
   },
   "outputs": [
    {
     "data": {
      "text/plain": [
       "[0, 2, 4, 6, 8]"
      ]
     },
     "execution_count": 194,
     "metadata": {},
     "output_type": "execute_result"
    }
   ],
   "source": [
    "list(filter(lambda x: x % 2 == 0, range(10)))"
   ]
  },
  {
   "cell_type": "markdown",
   "metadata": {},
   "source": [
    "Let's turn that list of characters back into a word with the `join` function:"
   ]
  },
  {
   "cell_type": "code",
   "execution_count": 195,
   "metadata": {},
   "outputs": [
    {
     "data": {
      "text/plain": [
       "'aXbG'"
      ]
     },
     "execution_count": 195,
     "metadata": {},
     "output_type": "execute_result"
    }
   ],
   "source": [
    "''.join(filter(str.isalpha, \"a8,X.b!G\"))"
   ]
  },
  {
   "cell_type": "markdown",
   "metadata": {},
   "source": [
    "# Aside (Regular expressions)\n",
    "\n",
    "**NB:** This is not the way I would actually remove punctuation in my own code. I'd be more likely to use regular expressions, e.g., \"anything not A-Z, a-z, and 0-9\":"
   ]
  },
  {
   "cell_type": "code",
   "execution_count": 32,
   "metadata": {},
   "outputs": [
    {
     "name": "stdout",
     "output_type": "stream",
     "text": [
      "a8XbG\n"
     ]
    }
   ],
   "source": [
    "import re\n",
    "print(re.sub('[^A-Za-z0-9]', '', 'a8,X.b!G'))"
   ]
  },
  {
   "cell_type": "markdown",
   "metadata": {},
   "source": [
    "The `string` class actually defines \"punctuation\":"
   ]
  },
  {
   "cell_type": "code",
   "execution_count": 34,
   "metadata": {},
   "outputs": [
    {
     "name": "stdout",
     "output_type": "stream",
     "text": [
      "!\"#$%&'()*+,-./:;<=>?@[\\]^_`{|}~\n"
     ]
    }
   ],
   "source": [
    "import string\n",
    "print(string.punctuation)"
   ]
  },
  {
   "cell_type": "markdown",
   "metadata": {},
   "source": [
    "So we could use that to create a character class of punctuation if that was the only thing we intended to remove:"
   ]
  },
  {
   "cell_type": "code",
   "execution_count": 36,
   "metadata": {},
   "outputs": [
    {
     "name": "stdout",
     "output_type": "stream",
     "text": [
      "a8XbG\n"
     ]
    }
   ],
   "source": [
    "import string\n",
    "print(re.sub('[' + string.punctuation + ']', '', 'a8,X.b!G'))"
   ]
  },
  {
   "cell_type": "markdown",
   "metadata": {},
   "source": [
    "# Combining map and filter\n",
    "\n",
    "So, going back to our Gettysburg example, here is a list of all the words without punctuation:"
   ]
  },
  {
   "cell_type": "code",
   "execution_count": 196,
   "metadata": {},
   "outputs": [
    {
     "name": "stdout",
     "output_type": "stream",
     "text": [
      "Four\n",
      "score\n",
      "and\n",
      "seven\n",
      "years\n",
      "ago\n",
      "our\n",
      "fathers\n",
      "brought\n",
      "forth\n",
      "on\n",
      "this\n",
      "continent\n",
      "a\n",
      "new\n",
      "nation\n",
      "conceived\n",
      "in\n",
      "Liberty\n",
      "and\n",
      "dedicated\n",
      "to\n",
      "the\n",
      "proposition\n",
      "that\n",
      "all\n",
      "men\n",
      "are\n",
      "created\n",
      "equal\n"
     ]
    }
   ],
   "source": [
    "for line in open('gettysburg.txt'):\n",
    "    for word in line.rstrip().split():\n",
    "        print(''.join(filter(str.isalpha, word)))"
   ]
  },
  {
   "cell_type": "markdown",
   "metadata": {},
   "source": [
    "Now, rather let's print the `sum` of the `chr` values for each cleaned up word:"
   ]
  },
  {
   "cell_type": "code",
   "execution_count": 197,
   "metadata": {},
   "outputs": [
    {
     "name": "stdout",
     "output_type": "stream",
     "text": [
      "\"Four\" = \"412\"\n",
      "\"score\" = \"540\"\n",
      "\"and\" = \"307\"\n",
      "\"seven\" = \"545\"\n",
      "\"years\" = \"548\"\n",
      "\"ago\" = \"311\"\n",
      "\"our\" = \"342\"\n",
      "\"fathers\" = \"749\"\n",
      "\"brought\" = \"763\"\n",
      "\"forth\" = \"547\"\n",
      "\"on\" = \"221\"\n",
      "\"this\" = \"440\"\n",
      "\"continent\" = \"978\"\n",
      "\"a\" = \"97\"\n",
      "\"new\" = \"330\"\n",
      "\"nation\" = \"649\"\n",
      "\"conceived\" = \"944\"\n",
      "\"in\" = \"215\"\n",
      "\"Liberty\" = \"731\"\n",
      "\"and\" = \"307\"\n",
      "\"dedicated\" = \"919\"\n",
      "\"to\" = \"227\"\n",
      "\"the\" = \"321\"\n",
      "\"proposition\" = \"1222\"\n",
      "\"that\" = \"433\"\n",
      "\"all\" = \"313\"\n",
      "\"men\" = \"320\"\n",
      "\"are\" = \"312\"\n",
      "\"created\" = \"728\"\n",
      "\"equal\" = \"536\"\n"
     ]
    }
   ],
   "source": [
    "for line in open('gettysburg.txt'):\n",
    "    for word in line.rstrip().split():\n",
    "        clean = ''.join(filter(str.isalpha, word))\n",
    "        print('\"{}\" = \"{}\"'.format(clean, sum(map(ord, clean))))"
   ]
  },
  {
   "cell_type": "markdown",
   "metadata": {},
   "source": [
    "Notice that we are calling `rstrip` for every line, so we could easily move that into a `map`, and the \"cleaning\" code can likewise be moved into a `map`:"
   ]
  },
  {
   "cell_type": "code",
   "execution_count": 198,
   "metadata": {},
   "outputs": [
    {
     "name": "stdout",
     "output_type": "stream",
     "text": [
      "\"Four\" = \"412\"\n",
      "\"score\" = \"540\"\n",
      "\"and\" = \"307\"\n",
      "\"seven\" = \"545\"\n",
      "\"years\" = \"548\"\n",
      "\"ago\" = \"311\"\n",
      "\"our\" = \"342\"\n",
      "\"fathers\" = \"749\"\n",
      "\"brought\" = \"763\"\n",
      "\"forth\" = \"547\"\n",
      "\"on\" = \"221\"\n",
      "\"this\" = \"440\"\n",
      "\"continent\" = \"978\"\n",
      "\"a\" = \"97\"\n",
      "\"new\" = \"330\"\n",
      "\"nation\" = \"649\"\n",
      "\"conceived\" = \"944\"\n",
      "\"in\" = \"215\"\n",
      "\"Liberty\" = \"731\"\n",
      "\"and\" = \"307\"\n",
      "\"dedicated\" = \"919\"\n",
      "\"to\" = \"227\"\n",
      "\"the\" = \"321\"\n",
      "\"proposition\" = \"1222\"\n",
      "\"that\" = \"433\"\n",
      "\"all\" = \"313\"\n",
      "\"men\" = \"320\"\n",
      "\"are\" = \"312\"\n",
      "\"created\" = \"728\"\n",
      "\"equal\" = \"536\"\n"
     ]
    }
   ],
   "source": [
    "for line in map(str.rstrip, open('gettysburg.txt')):\n",
    "    for word in map(lambda w: ''.join(filter(str.isalpha, w)), line.split()):\n",
    "        print('\"{}\" = \"{}\"'.format(word, sum(map(ord, word))))"
   ]
  },
  {
   "cell_type": "markdown",
   "metadata": {},
   "source": [
    "At this point, we have arguably sacrificed readability for the sake of using `map` and `filter` -- another instance of \"just because you can doesn't mean you should!\"\n",
    "\n",
    "We can improve readability, however, by creating our own functions with informative names. Also, since `onlychars` will get rid of the trailing newlines, we can remove the `line.rstrip()` call:"
   ]
  },
  {
   "cell_type": "code",
   "execution_count": 37,
   "metadata": {},
   "outputs": [
    {
     "name": "stdout",
     "output_type": "stream",
     "text": [
      "\"Four\" = \"412\"\n",
      "\"score\" = \"540\"\n",
      "\"and\" = \"307\"\n",
      "\"seven\" = \"545\"\n",
      "\"years\" = \"548\"\n",
      "\"ago\" = \"311\"\n",
      "\"our\" = \"342\"\n",
      "\"fathers\" = \"749\"\n",
      "\"brought\" = \"763\"\n",
      "\"forth\" = \"547\"\n",
      "\"on\" = \"221\"\n",
      "\"this\" = \"440\"\n",
      "\"continent\" = \"978\"\n",
      "\"a\" = \"97\"\n",
      "\"new\" = \"330\"\n",
      "\"nation\" = \"649\"\n",
      "\"conceived\" = \"944\"\n",
      "\"in\" = \"215\"\n",
      "\"Liberty\" = \"731\"\n",
      "\"and\" = \"307\"\n",
      "\"dedicated\" = \"919\"\n",
      "\"to\" = \"227\"\n",
      "\"the\" = \"321\"\n",
      "\"proposition\" = \"1222\"\n",
      "\"that\" = \"433\"\n",
      "\"all\" = \"313\"\n",
      "\"men\" = \"320\"\n",
      "\"are\" = \"312\"\n",
      "\"created\" = \"728\"\n",
      "\"equal\" = \"536\"\n"
     ]
    }
   ],
   "source": [
    "def onlychars(word):\n",
    "    return ''.join(filter(str.isalpha, word))\n",
    "\n",
    "def word2num(word):\n",
    "    return sum(map(ord, word))\n",
    "\n",
    "for line in open('gettysburg.txt'):\n",
    "    for word in map(onlychars, line.split()):\n",
    "        print('\"{}\" = \"{}\"'.format(word, word2num(word)))"
   ]
  },
  {
   "cell_type": "markdown",
   "metadata": {},
   "source": [
    "# Golfing\n",
    "\n",
    "\"Golfing\" in code is when you try to express your code in fewer and fewer keystrokes. At some point you cross the line of cleanliness to absudity. Remember:\n",
    "\n",
    "> It's such a fine line between stupid and clever. -- David St. Hubbins (https://www.youtube.com/watch?v=wtXkD1BC564)\n",
    "\n",
    "Here's a streamlined version that combines `open`, `read`, and `split` to read the entire file into a list of words which are `map`d into `word2num`. \n",
    "\n",
    "**NB:** This version assumes you have enough memory to read an *entire file* and split it. The versions above which read and process each line consume only as much memory as any one line needs!"
   ]
  },
  {
   "cell_type": "code",
   "execution_count": 38,
   "metadata": {},
   "outputs": [
    {
     "name": "stdout",
     "output_type": "stream",
     "text": [
      "412 540 307 545 548 311 342 749 763 547 221 440 978 97 330 649 944 215 731 307 919 227 321 1222 433 313 320 312 728 536\n"
     ]
    }
   ],
   "source": [
    "def onlychars(word):\n",
    "    return ''.join(filter(str.isalpha, word))\n",
    "\n",
    "def word2num(word):\n",
    "    return str(sum(map(ord, word)))\n",
    "\n",
    "print(' '.join(map(word2num, \n",
    "                   map(onlychars, \n",
    "                       open('gettysburg.txt').read().split()))))"
   ]
  },
  {
   "cell_type": "markdown",
   "metadata": {},
   "source": [
    "To mimic the above output:"
   ]
  },
  {
   "cell_type": "code",
   "execution_count": 21,
   "metadata": {},
   "outputs": [
    {
     "name": "stdout",
     "output_type": "stream",
     "text": [
      "\"Four\" = \"412\"\n",
      "\"score\" = \"540\"\n",
      "\"and\" = \"307\"\n",
      "\"seven\" = \"545\"\n",
      "\"years\" = \"548\"\n",
      "\"ago\" = \"311\"\n",
      "\"our\" = \"342\"\n",
      "\"fathers\" = \"749\"\n",
      "\"brought\" = \"763\"\n",
      "\"forth\" = \"547\"\n",
      "\"on\" = \"221\"\n",
      "\"this\" = \"440\"\n",
      "\"continent\" = \"978\"\n",
      "\"a\" = \"97\"\n",
      "\"new\" = \"330\"\n",
      "\"nation\" = \"649\"\n",
      "\"conceived\" = \"944\"\n",
      "\"in\" = \"215\"\n",
      "\"Liberty\" = \"731\"\n",
      "\"and\" = \"307\"\n",
      "\"dedicated\" = \"919\"\n",
      "\"to\" = \"227\"\n",
      "\"the\" = \"321\"\n",
      "\"proposition\" = \"1222\"\n",
      "\"that\" = \"433\"\n",
      "\"all\" = \"313\"\n",
      "\"men\" = \"320\"\n",
      "\"are\" = \"312\"\n",
      "\"created\" = \"728\"\n",
      "\"equal\" = \"536\"\n"
     ]
    }
   ],
   "source": [
    "def onlychars(word):\n",
    "    return ''.join(filter(str.isalpha, word))\n",
    "\n",
    "def word2num(word):\n",
    "    return str(sum(map(ord, onlychars(word))))\n",
    "\n",
    "print('\\n'.join(map(lambda word: '\"{}\" = \"{}\"'.format(word, word2num(word)), \n",
    "                    map(onlychars, \n",
    "                        open('gettysburg.txt').read().split()))))"
   ]
  },
  {
   "cell_type": "markdown",
   "metadata": {},
   "source": [
    "With this, I hope you're now understand what is meant by a \"higher-order function\" (functions that take other functions as arguments) and how they can streamline your code.\n",
    "\n",
    "## Exercise\n",
    "\n",
    "Read your local dictionary (e.g., \"/usr/share/dict/words\") and find how many words share the same numeric representation. Which ones have the value \"666\"?"
   ]
  },
  {
   "cell_type": "code",
   "execution_count": 29,
   "metadata": {},
   "outputs": [
    {
     "name": "stdout",
     "output_type": "stream",
     "text": [
      "No Satan!\n",
      "973 (623 words) = Actaeaceae, activator, actorship ...\n",
      "969 (621 words) = abrotanum, acclivous, acidulous ...\n",
      "965 (611 words) = abhorrent, acoumeter, acronymic ...\n",
      "855 (607 words) = abuseful, acanthus, acronych ...\n",
      "861 (601 words) = Absyrtus, acaulous, adjuvant ...\n",
      "856 (597 words) = abrastol, accismus, acervose ...\n",
      "971 (596 words) = aburabozu, acropathy, acuteness ...\n",
      "974 (594 words) = ablastous, absolvent, abysmally ...\n",
      "972 (592 words) = accessory, acropolis, acutiator ...\n",
      "1078 (587 words) = absentness, acrogenous, actinozoan ...\n"
     ]
    }
   ],
   "source": [
    "from collections import defaultdict\n",
    "\n",
    "def onlychars(word):\n",
    "    return ''.join(filter(str.isalpha, word))\n",
    "\n",
    "file = '/usr/share/dict/words'\n",
    "num2word = defaultdict(list)\n",
    "for line in map(str.rstrip, open(file)):\n",
    "    for word in map(onlychars, line.split()):\n",
    "        num = sum(map(ord, word))\n",
    "        num2word[num].append(word)\n",
    "\n",
    "satan = '666'\n",
    "if satan in num2word:\n",
    "    print('Satan =', num2word[satan])\n",
    "else:\n",
    "    print('No Satan!')\n",
    "\n",
    "count_per_n = []\n",
    "for n, wordlist in num2word.items():\n",
    "    count_per_n.append((len(wordlist), n))\n",
    "\n",
    "top10 = list(reversed(sorted(count_per_n)))[:10]\n",
    "for num_of_words, n in top10:\n",
    "    print('{} ({} words) = {} ...'.format(n, len(num2word[n]), ', '.join(num2word[n][:3])))"
   ]
  },
  {
   "cell_type": "code",
   "execution_count": null,
   "metadata": {},
   "outputs": [],
   "source": []
  }
 ],
 "metadata": {
  "kernelspec": {
   "display_name": "Python 3",
   "language": "python",
   "name": "python3"
  },
  "language_info": {
   "codemirror_mode": {
    "name": "ipython",
    "version": 3
   },
   "file_extension": ".py",
   "mimetype": "text/x-python",
   "name": "python",
   "nbconvert_exporter": "python",
   "pygments_lexer": "ipython3",
   "version": "3.6.8"
  }
 },
 "nbformat": 4,
 "nbformat_minor": 2
}
